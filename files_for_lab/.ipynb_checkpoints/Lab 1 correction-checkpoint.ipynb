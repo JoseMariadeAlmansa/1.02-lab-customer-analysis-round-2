{
 "cells": [
  {
   "cell_type": "code",
   "execution_count": null,
   "id": "f454ce40",
   "metadata": {},
   "outputs": [],
   "source": [
    "import pandas as pd\n",
    "import numpy as np\n",
    "#Read the three files into python as dataframes\n",
    "file1=pd.read_csv('file1.csv')\n",
    "file2=pd.read_csv('file2.csv')\n",
    "file3=pd.read_csv('file3.csv')\n",
    "#Show the DataFrame's shape.\n",
    "display(file1.shape)\n",
    "display(file2.shape)\n",
    "display(file3.shape)\n"
   ]
  },
  {
   "cell_type": "markdown",
   "id": "3616f4da",
   "metadata": {},
   "source": [
    "# Standardize header names"
   ]
  },
  {
   "cell_type": "code",
   "execution_count": null,
   "id": "34ee0b3d",
   "metadata": {},
   "outputs": [],
   "source": [
    "standard_headers_file1= []\n",
    "for column in file3.columns:\n",
    "    standard_headers_file1.append(column.lower())\n",
    "file1.columns = standard_headers_file1\n",
    "display(file1.columns)"
   ]
  },
  {
   "cell_type": "code",
   "execution_count": null,
   "id": "3ef94061",
   "metadata": {},
   "outputs": [],
   "source": [
    "standard_headers_file2= []\n",
    "for column in file2.columns:\n",
    "    standard_headers_file2.append(column.lower())\n",
    "file2.columns = standard_headers_file2\n",
    "display(file2.columns)\n"
   ]
  },
  {
   "cell_type": "code",
   "execution_count": null,
   "id": "a475c0db",
   "metadata": {},
   "outputs": [],
   "source": [
    "standard_headers_file3= []\n",
    "for column in file3.columns:\n",
    "    standard_headers_file3.append(column.lower())\n",
    "file3.columns = standard_headers_file3\n",
    "display(file3.columns)"
   ]
  },
  {
   "cell_type": "code",
   "execution_count": null,
   "id": "d3dfff4f",
   "metadata": {},
   "outputs": [],
   "source": [
    "file2=file2.rename(columns={'st':'state'})\n",
    "display(file2.columns)"
   ]
  }
 ],
 "metadata": {
  "kernelspec": {
   "display_name": "Python 3 (ipykernel)",
   "language": "python",
   "name": "python3"
  },
  "language_info": {
   "codemirror_mode": {
    "name": "ipython",
    "version": 3
   },
   "file_extension": ".py",
   "mimetype": "text/x-python",
   "name": "python",
   "nbconvert_exporter": "python",
   "pygments_lexer": "ipython3",
   "version": "3.9.12"
  }
 },
 "nbformat": 4,
 "nbformat_minor": 5
}
